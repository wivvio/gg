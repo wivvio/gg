{
 "cells": [
  {
   "cell_type": "code",
   "execution_count": null,
   "id": "8b32a96e-af09-4af1-8fa3-6c833308e45f",
   "metadata": {},
   "outputs": [],
   "source": [
    "import pandas as pd\n",
    "\n",
    "all_data = [1.7, 0.5, None]\n",
    "data_sum = pd.Series(all_data).sum(skipna=None)\n",
    "print(data_sum)\n"
   ]
  }
 ],
 "metadata": {
  "kernelspec": {
   "display_name": "Python 3 (ipykernel)",
   "language": "python",
   "name": "python3"
  },
  "language_info": {
   "codemirror_mode": {
    "name": "ipython",
    "version": 3
   },
   "file_extension": ".py",
   "mimetype": "text/x-python",
   "name": "python",
   "nbconvert_exporter": "python",
   "pygments_lexer": "ipython3",
   "version": "3.10.14"
  }
 },
 "nbformat": 4,
 "nbformat_minor": 5
}
