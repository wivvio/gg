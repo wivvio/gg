{
 "cells": [
  {
   "cell_type": "code",
   "execution_count": null,
   "id": "3db11907-7ff3-4263-9d31-8aac6f2af3a7",
   "metadata": {},
   "outputs": [],
   "source": [
    "import pandas as pd\n",
    "df = pd.DataFrame([\n",
    "  [\"g\", \"g0\"],\n",
    "  [\"g\", \"g1\"],\n",
    "  [\"g\", \"g2\"],\n",
    "  [\"g\", \"g3\"],\n",
    "  [\"h\", \"h0\"],\n",
    "  [\"h\", \"h1\"]\n",
    "], columns=[\"A\", \"B\"])\n",
    "print(df.groupby(\"A\").nth[1:-1])"
   ]
  }
 ],
 "metadata": {
  "kernelspec": {
   "display_name": "Python 3 (ipykernel)",
   "language": "python",
   "name": "python3"
  },
  "language_info": {
   "codemirror_mode": {
    "name": "ipython",
    "version": 3
   },
   "file_extension": ".py",
   "mimetype": "text/x-python",
   "name": "python",
   "nbconvert_exporter": "python",
   "pygments_lexer": "ipython3",
   "version": "3.10.14"
  }
 },
 "nbformat": 4,
 "nbformat_minor": 5
}
